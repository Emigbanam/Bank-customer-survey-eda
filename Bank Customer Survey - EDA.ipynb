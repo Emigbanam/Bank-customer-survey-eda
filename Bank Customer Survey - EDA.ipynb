{
 "cells": [
  {
   "metadata": {},
   "cell_type": "markdown",
   "source": [
    "Phase 1 — Data Loading & Initial Inspection\n",
    "----\n",
    "Purpose: Understand the dataset’s shape, structure, and variable types."
   ],
   "id": "7214b6f7fa1d4d13"
  },
  {
   "cell_type": "code",
   "id": "initial_id",
   "metadata": {
    "collapsed": true,
    "ExecuteTime": {
     "end_time": "2025-08-12T21:59:51.115238Z",
     "start_time": "2025-08-12T21:59:51.106308Z"
    }
   },
   "source": [
    "#Importing Libraries\n",
    "import pandas as pd\n",
    "import matplotlib.pyplot as plt\n",
    "import seaborn as sns"
   ],
   "outputs": [],
   "execution_count": 48
  },
  {
   "metadata": {
    "ExecuteTime": {
     "end_time": "2025-08-12T21:59:51.447135Z",
     "start_time": "2025-08-12T21:59:51.133183Z"
    }
   },
   "cell_type": "code",
   "source": [
    "#Load dataset\n",
    "bank_df = pd.read_excel(r\"C:\\Users\\Emigb\\Documents\\Data Science\\Joe Bass\\DataInBrief_Bankdata.xlsx\")"
   ],
   "id": "ed46011cec10cafa",
   "outputs": [],
   "execution_count": 49
  },
  {
   "metadata": {
    "ExecuteTime": {
     "end_time": "2025-08-12T21:59:51.505984Z",
     "start_time": "2025-08-12T21:59:51.456404Z"
    }
   },
   "cell_type": "code",
   "source": [
    "#Inspecting Data\n",
    "# Inspecting Data\n",
    "\n",
    "print(\"Shape of DataFrame:\")\n",
    "print(bank_df.shape)\n",
    "print()  # Blank line\n",
    "\n",
    "print(\"DataFrame Info:\")\n",
    "print(bank_df.info())\n",
    "print()  # Blank line\n",
    "\n",
    "print(\"First 5 Rows:\")\n",
    "print(bank_df.head())\n"
   ],
   "id": "f8220fde0f988416",
   "outputs": [
    {
     "name": "stdout",
     "output_type": "stream",
     "text": [
      "Shape of DataFrame:\n",
      "(675, 41)\n",
      "\n",
      "DataFrame Info:\n",
      "<class 'pandas.core.frame.DataFrame'>\n",
      "RangeIndex: 675 entries, 0 to 674\n",
      "Data columns (total 41 columns):\n",
      " #   Column          Non-Null Count  Dtype  \n",
      "---  ------          --------------  -----  \n",
      " 0   A_1_AGE         675 non-null    int64  \n",
      " 1   LOY_1           675 non-null    int64  \n",
      " 2   QUAL_1          675 non-null    int64  \n",
      " 3   QUAL_2          675 non-null    int64  \n",
      " 4   QUAL_4          675 non-null    int64  \n",
      " 5   QUAL_5          675 non-null    int64  \n",
      " 6   QUAL_6          675 non-null    int64  \n",
      " 7   QUA_7           675 non-null    int64  \n",
      " 8   PERF_1          675 non-null    int64  \n",
      " 9   PERF_2          675 non-null    int64  \n",
      " 10  PERF_3          675 non-null    int64  \n",
      " 11  PERF_4          675 non-null    int64  \n",
      " 12  PERF_5          675 non-null    int64  \n",
      " 13  CSOR_1          675 non-null    int64  \n",
      " 14  CSOR_2          675 non-null    int64  \n",
      " 15  CSOR_3          675 non-null    int64  \n",
      " 16  CSOR_4          675 non-null    int64  \n",
      " 17  CSOR_5          672 non-null    float64\n",
      " 18  ATTR_1          675 non-null    int64  \n",
      " 19  ATTR_2          675 non-null    int64  \n",
      " 20  ATTR_3          675 non-null    int64  \n",
      " 21  ATTR_4          675 non-null    int64  \n",
      " 22  LIKE_1          675 non-null    int64  \n",
      " 23  LIKE_2          675 non-null    int64  \n",
      " 24  COMP_1          675 non-null    int64  \n",
      " 25  COMP_2          675 non-null    int64  \n",
      " 26  COMP_3          675 non-null    int64  \n",
      " 27  SAT_1           675 non-null    int64  \n",
      " 28  SAT_2           675 non-null    int64  \n",
      " 29  SAT_3           675 non-null    int64  \n",
      " 30  LOY_2           675 non-null    int64  \n",
      " 31  LOY_3           675 non-null    int64  \n",
      " 32  TRUST_1         675 non-null    int64  \n",
      " 33  TRUST_2         675 non-null    int64  \n",
      " 34  TRUST_3         675 non-null    int64  \n",
      " 35  TRUST_4         675 non-null    int64  \n",
      " 36  D_1_GENDER      675 non-null    int64  \n",
      " 37  D_2_FAMILY      675 non-null    int64  \n",
      " 38  D_3_EDUCATION   675 non-null    int64  \n",
      " 39  D_4_EMPLOYMENT  675 non-null    int64  \n",
      " 40  D_6_INCOME      675 non-null    int64  \n",
      "dtypes: float64(1), int64(40)\n",
      "memory usage: 216.3 KB\n",
      "None\n",
      "\n",
      "First 5 Rows:\n",
      "   A_1_AGE  LOY_1  QUAL_1  QUAL_2  QUAL_4  QUAL_5  QUAL_6  QUA_7  PERF_1  \\\n",
      "0        4      7       7       7       7       6       6      6       7   \n",
      "1        5      6       4       4       5       4       4      4       4   \n",
      "2        3      7       7       7       7       7       7      1       7   \n",
      "3        3      7       7       7       7       6       6      4       7   \n",
      "4        2      7       6       6       6       5       6      4       7   \n",
      "\n",
      "   PERF_2  ...  LOY_3  TRUST_1  TRUST_2  TRUST_3  TRUST_4  D_1_GENDER  \\\n",
      "0       7  ...      4        7        7        7        7           1   \n",
      "1       4  ...      3        4        4        4        4           1   \n",
      "2       7  ...      7        7        7        7        7           0   \n",
      "3       6  ...      7        6        6        4        4           1   \n",
      "4       7  ...      4        7        6        6        6           1   \n",
      "\n",
      "   D_2_FAMILY  D_3_EDUCATION  D_4_EMPLOYMENT  D_6_INCOME  \n",
      "0           4              2               3           4  \n",
      "1           0              6               0           0  \n",
      "2           4              5               7           4  \n",
      "3           4              3               7           4  \n",
      "4           2              6               7           0  \n",
      "\n",
      "[5 rows x 41 columns]\n"
     ]
    }
   ],
   "execution_count": 50
  },
  {
   "metadata": {
    "ExecuteTime": {
     "end_time": "2025-08-12T21:59:51.524261Z",
     "start_time": "2025-08-12T21:59:51.515433Z"
    }
   },
   "cell_type": "code",
   "source": [
    "#Standardizing Columns\n",
    "bank_df.columns = (bank_df.columns.str.strip()\n",
    "                  .str.lower()\n",
    "                  .str.replace(' ','_')\n",
    "                  .str.replace('__', '_'))"
   ],
   "id": "6566104b5f4f9d78",
   "outputs": [],
   "execution_count": 51
  },
  {
   "metadata": {
    "ExecuteTime": {
     "end_time": "2025-08-12T21:59:51.565528Z",
     "start_time": "2025-08-12T21:59:51.538494Z"
    }
   },
   "cell_type": "code",
   "source": "bank_df.head()",
   "id": "e75ca125239a84bc",
   "outputs": [
    {
     "data": {
      "text/plain": [
       "   a_1_age  loy_1  qual_1  qual_2  qual_4  qual_5  qual_6  qua_7  perf_1  \\\n",
       "0        4      7       7       7       7       6       6      6       7   \n",
       "1        5      6       4       4       5       4       4      4       4   \n",
       "2        3      7       7       7       7       7       7      1       7   \n",
       "3        3      7       7       7       7       6       6      4       7   \n",
       "4        2      7       6       6       6       5       6      4       7   \n",
       "\n",
       "   perf_2  ...  loy_3  trust_1  trust_2  trust_3  trust_4  d_1_gender  \\\n",
       "0       7  ...      4        7        7        7        7           1   \n",
       "1       4  ...      3        4        4        4        4           1   \n",
       "2       7  ...      7        7        7        7        7           0   \n",
       "3       6  ...      7        6        6        4        4           1   \n",
       "4       7  ...      4        7        6        6        6           1   \n",
       "\n",
       "   d_2_family  d_3_education  d_4_employment  d_6_income  \n",
       "0           4              2               3           4  \n",
       "1           0              6               0           0  \n",
       "2           4              5               7           4  \n",
       "3           4              3               7           4  \n",
       "4           2              6               7           0  \n",
       "\n",
       "[5 rows x 41 columns]"
      ],
      "text/html": [
       "<div>\n",
       "<style scoped>\n",
       "    .dataframe tbody tr th:only-of-type {\n",
       "        vertical-align: middle;\n",
       "    }\n",
       "\n",
       "    .dataframe tbody tr th {\n",
       "        vertical-align: top;\n",
       "    }\n",
       "\n",
       "    .dataframe thead th {\n",
       "        text-align: right;\n",
       "    }\n",
       "</style>\n",
       "<table border=\"1\" class=\"dataframe\">\n",
       "  <thead>\n",
       "    <tr style=\"text-align: right;\">\n",
       "      <th></th>\n",
       "      <th>a_1_age</th>\n",
       "      <th>loy_1</th>\n",
       "      <th>qual_1</th>\n",
       "      <th>qual_2</th>\n",
       "      <th>qual_4</th>\n",
       "      <th>qual_5</th>\n",
       "      <th>qual_6</th>\n",
       "      <th>qua_7</th>\n",
       "      <th>perf_1</th>\n",
       "      <th>perf_2</th>\n",
       "      <th>...</th>\n",
       "      <th>loy_3</th>\n",
       "      <th>trust_1</th>\n",
       "      <th>trust_2</th>\n",
       "      <th>trust_3</th>\n",
       "      <th>trust_4</th>\n",
       "      <th>d_1_gender</th>\n",
       "      <th>d_2_family</th>\n",
       "      <th>d_3_education</th>\n",
       "      <th>d_4_employment</th>\n",
       "      <th>d_6_income</th>\n",
       "    </tr>\n",
       "  </thead>\n",
       "  <tbody>\n",
       "    <tr>\n",
       "      <th>0</th>\n",
       "      <td>4</td>\n",
       "      <td>7</td>\n",
       "      <td>7</td>\n",
       "      <td>7</td>\n",
       "      <td>7</td>\n",
       "      <td>6</td>\n",
       "      <td>6</td>\n",
       "      <td>6</td>\n",
       "      <td>7</td>\n",
       "      <td>7</td>\n",
       "      <td>...</td>\n",
       "      <td>4</td>\n",
       "      <td>7</td>\n",
       "      <td>7</td>\n",
       "      <td>7</td>\n",
       "      <td>7</td>\n",
       "      <td>1</td>\n",
       "      <td>4</td>\n",
       "      <td>2</td>\n",
       "      <td>3</td>\n",
       "      <td>4</td>\n",
       "    </tr>\n",
       "    <tr>\n",
       "      <th>1</th>\n",
       "      <td>5</td>\n",
       "      <td>6</td>\n",
       "      <td>4</td>\n",
       "      <td>4</td>\n",
       "      <td>5</td>\n",
       "      <td>4</td>\n",
       "      <td>4</td>\n",
       "      <td>4</td>\n",
       "      <td>4</td>\n",
       "      <td>4</td>\n",
       "      <td>...</td>\n",
       "      <td>3</td>\n",
       "      <td>4</td>\n",
       "      <td>4</td>\n",
       "      <td>4</td>\n",
       "      <td>4</td>\n",
       "      <td>1</td>\n",
       "      <td>0</td>\n",
       "      <td>6</td>\n",
       "      <td>0</td>\n",
       "      <td>0</td>\n",
       "    </tr>\n",
       "    <tr>\n",
       "      <th>2</th>\n",
       "      <td>3</td>\n",
       "      <td>7</td>\n",
       "      <td>7</td>\n",
       "      <td>7</td>\n",
       "      <td>7</td>\n",
       "      <td>7</td>\n",
       "      <td>7</td>\n",
       "      <td>1</td>\n",
       "      <td>7</td>\n",
       "      <td>7</td>\n",
       "      <td>...</td>\n",
       "      <td>7</td>\n",
       "      <td>7</td>\n",
       "      <td>7</td>\n",
       "      <td>7</td>\n",
       "      <td>7</td>\n",
       "      <td>0</td>\n",
       "      <td>4</td>\n",
       "      <td>5</td>\n",
       "      <td>7</td>\n",
       "      <td>4</td>\n",
       "    </tr>\n",
       "    <tr>\n",
       "      <th>3</th>\n",
       "      <td>3</td>\n",
       "      <td>7</td>\n",
       "      <td>7</td>\n",
       "      <td>7</td>\n",
       "      <td>7</td>\n",
       "      <td>6</td>\n",
       "      <td>6</td>\n",
       "      <td>4</td>\n",
       "      <td>7</td>\n",
       "      <td>6</td>\n",
       "      <td>...</td>\n",
       "      <td>7</td>\n",
       "      <td>6</td>\n",
       "      <td>6</td>\n",
       "      <td>4</td>\n",
       "      <td>4</td>\n",
       "      <td>1</td>\n",
       "      <td>4</td>\n",
       "      <td>3</td>\n",
       "      <td>7</td>\n",
       "      <td>4</td>\n",
       "    </tr>\n",
       "    <tr>\n",
       "      <th>4</th>\n",
       "      <td>2</td>\n",
       "      <td>7</td>\n",
       "      <td>6</td>\n",
       "      <td>6</td>\n",
       "      <td>6</td>\n",
       "      <td>5</td>\n",
       "      <td>6</td>\n",
       "      <td>4</td>\n",
       "      <td>7</td>\n",
       "      <td>7</td>\n",
       "      <td>...</td>\n",
       "      <td>4</td>\n",
       "      <td>7</td>\n",
       "      <td>6</td>\n",
       "      <td>6</td>\n",
       "      <td>6</td>\n",
       "      <td>1</td>\n",
       "      <td>2</td>\n",
       "      <td>6</td>\n",
       "      <td>7</td>\n",
       "      <td>0</td>\n",
       "    </tr>\n",
       "  </tbody>\n",
       "</table>\n",
       "<p>5 rows × 41 columns</p>\n",
       "</div>"
      ]
     },
     "execution_count": 52,
     "metadata": {},
     "output_type": "execute_result"
    }
   ],
   "execution_count": 52
  },
  {
   "metadata": {},
   "cell_type": "markdown",
   "source": [
    "Phase 2 — Variable Mapping\n",
    "----\n",
    "Purpose: Separate measurement constructs from demographics."
   ],
   "id": "79a6d89d5715e80e"
  },
  {
   "metadata": {
    "ExecuteTime": {
     "end_time": "2025-08-12T21:59:51.588585Z",
     "start_time": "2025-08-12T21:59:51.577520Z"
    }
   },
   "cell_type": "code",
   "source": "bank_df.columns",
   "id": "ae812cf9e5fe0ad5",
   "outputs": [
    {
     "data": {
      "text/plain": [
       "Index(['a_1_age', 'loy_1', 'qual_1', 'qual_2', 'qual_4', 'qual_5', 'qual_6',\n",
       "       'qua_7', 'perf_1', 'perf_2', 'perf_3', 'perf_4', 'perf_5', 'csor_1',\n",
       "       'csor_2', 'csor_3', 'csor_4', 'csor_5', 'attr_1', 'attr_2', 'attr_3',\n",
       "       'attr_4', 'like_1', 'like_2', 'comp_1', 'comp_2', 'comp_3', 'sat_1',\n",
       "       'sat_2', 'sat_3', 'loy_2', 'loy_3', 'trust_1', 'trust_2', 'trust_3',\n",
       "       'trust_4', 'd_1_gender', 'd_2_family', 'd_3_education',\n",
       "       'd_4_employment', 'd_6_income'],\n",
       "      dtype='object')"
      ]
     },
     "execution_count": 53,
     "metadata": {},
     "output_type": "execute_result"
    }
   ],
   "execution_count": 53
  },
  {
   "metadata": {
    "ExecuteTime": {
     "end_time": "2025-08-12T21:59:51.621375Z",
     "start_time": "2025-08-12T21:59:51.606474Z"
    }
   },
   "cell_type": "code",
   "source": [
    "#Defining constructs\n",
    "constructs = {\n",
    "    'qual':[c for c in bank_df.columns if c.startswith('qual')],\n",
    "    'perf':[c for c in bank_df.columns if c.startswith('perf')],\n",
    "    'csor':[c for c in bank_df.columns if c.startswith('csor')],\n",
    "    'attr':[c for c in bank_df.columns if c.startswith('attr')],\n",
    "    'like':[c for c in bank_df.columns if c.startswith('like')],\n",
    "    'comp':[c for c in bank_df.columns if c.startswith('comp')],\n",
    "    'sat':[c for c in bank_df.columns if c.startswith('sat')],\n",
    "    'loy':[c for c in bank_df.columns if c.startswith('loy')],\n",
    "    'trust':[c for c in bank_df.columns if c.startswith('trust')],\n",
    "}"
   ],
   "id": "8884e7228f5812a2",
   "outputs": [],
   "execution_count": 54
  },
  {
   "metadata": {
    "ExecuteTime": {
     "end_time": "2025-08-12T21:59:51.650524Z",
     "start_time": "2025-08-12T21:59:51.640336Z"
    }
   },
   "cell_type": "code",
   "source": [
    "#Defining Demographic variables\n",
    "demographics =['a_1_age','d_1_gender','d_2_family','d_3_education','d_4_employment', 'd_6_income']"
   ],
   "id": "dcf61ba80df51a5a",
   "outputs": [],
   "execution_count": 55
  },
  {
   "metadata": {},
   "cell_type": "markdown",
   "source": [
    "Phase 3 — Missing Data Analysis\n",
    "----\n",
    "\n",
    "Purpose: Check completeness and patterns.\n"
   ],
   "id": "f5cbab571a5b3c78"
  },
  {
   "metadata": {
    "ExecuteTime": {
     "end_time": "2025-08-12T21:59:51.688805Z",
     "start_time": "2025-08-12T21:59:51.667913Z"
    }
   },
   "cell_type": "code",
   "source": [
    "#Summarzing missing values\n",
    "missing = bank_df.isnull().sum()\n",
    "missing_percent = (missing/len(bank_df) * 100).round(2)\n",
    "missing_df = pd.DataFrame({'count':missing, 'percent':missing_percent})\n",
    "print(missing_df.sort_values('percent', ascending=False).head(10))"
   ],
   "id": "b3c47ee878488b49",
   "outputs": [
    {
     "name": "stdout",
     "output_type": "stream",
     "text": [
      "         count  percent\n",
      "csor_5       3     0.44\n",
      "loy_1        0     0.00\n",
      "qual_1       0     0.00\n",
      "qual_2       0     0.00\n",
      "qual_4       0     0.00\n",
      "qual_5       0     0.00\n",
      "qual_6       0     0.00\n",
      "qua_7        0     0.00\n",
      "a_1_age      0     0.00\n",
      "perf_1       0     0.00\n"
     ]
    }
   ],
   "execution_count": 56
  },
  {
   "metadata": {
    "ExecuteTime": {
     "end_time": "2025-08-12T22:02:51.738678Z",
     "start_time": "2025-08-12T22:02:51.583314Z"
    }
   },
   "cell_type": "code",
   "source": [
    "#Dropping missing values\n",
    "bank_df.dropna(subset=['csor_5'], inplace=True)\n",
    "\n",
    "assert bank_df['csor_5'].isna().sum() == 0,\"Some rows with missing values in column1 still remain.\""
   ],
   "id": "a11c22e369fad42e",
   "outputs": [],
   "execution_count": 60
  },
  {
   "metadata": {},
   "cell_type": "markdown",
   "source": [
    "Phase 4 — Demographic Profile Analysis\n",
    "----\n",
    "\n",
    "Purpose: Validate distributions vs PDF reference."
   ],
   "id": "c1a0fe3cf80acddf"
  },
  {
   "metadata": {
    "ExecuteTime": {
     "end_time": "2025-08-12T22:13:03.208332Z",
     "start_time": "2025-08-12T22:13:03.035490Z"
    }
   },
   "cell_type": "code",
   "source": [
    "#Gender distribution\n",
    "gender_map = {1: 'Female', 0: 'Male'}\n",
    "(bank_df['d_1_gender'].map(gender_map).value_counts(normalize=True) * 100)\n"
   ],
   "id": "5e2248b4534adaba",
   "outputs": [
    {
     "data": {
      "text/plain": [
       "d_1_gender\n",
       "Female    58.184524\n",
       "Male      41.815476\n",
       "Name: proportion, dtype: float64"
      ]
     },
     "execution_count": 62,
     "metadata": {},
     "output_type": "execute_result"
    }
   ],
   "execution_count": 62
  },
  {
   "metadata": {
    "ExecuteTime": {
     "end_time": "2025-08-12T22:15:42.158594Z",
     "start_time": "2025-08-12T22:15:41.983420Z"
    }
   },
   "cell_type": "code",
   "source": [
    "#Age distribution\n",
    "plt.figure(figsize=(6,4))\n",
    "bank_df['a_1_age'].hist(bins=10)\n",
    "plt.title('Age Distribution')\n",
    "plt.xlabel('Age')\n",
    "plt.ylabel('Count')\n",
    "plt.show()"
   ],
   "id": "b059a9878aff677c",
   "outputs": [
    {
     "data": {
      "text/plain": [
       "<Figure size 600x400 with 1 Axes>"
      ],
      "image/png": "[encoded data removed]"
     },
     "metadata": {},
     "output_type": "display_data"
    }
   ],
   "execution_count": 64
  },
  {
   "metadata": {
    "ExecuteTime": {
     "end_time": "2025-08-12T22:20:13.984240Z",
     "start_time": "2025-08-12T22:20:13.790937Z"
    }
   },
   "cell_type": "code",
   "source": [
    "# 10. Cross-tab example: Education vs Employment\n",
    "pd.crosstab(bank_df['d_3_education'], bank_df['d_4_employment'])"
   ],
   "id": "998f8b7639443da9",
   "outputs": [
    {
     "data": {
      "text/plain": [
       "d_4_employment  0  1   2   3  4   5   6    7\n",
       "d_3_education                               \n",
       "0               1  0   1   0  0   0   0    0\n",
       "1               0  0   1   0  0   0   0    0\n",
       "2               1  2  15   9  0   0   0   13\n",
       "3               5  7  44   7  6   1   6   76\n",
       "4               1  0   6   1  1   2   1   14\n",
       "5               0  2  13   2  2  23   7   36\n",
       "6               4  7  64  12  2   1  13  125\n",
       "7               2  3  31   4  2   6  11   79"
      ],
      "text/html": [
       "<div>\n",
       "<style scoped>\n",
       "    .dataframe tbody tr th:only-of-type {\n",
       "        vertical-align: middle;\n",
       "    }\n",
       "\n",
       "    .dataframe tbody tr th {\n",
       "        vertical-align: top;\n",
       "    }\n",
       "\n",
       "    .dataframe thead th {\n",
       "        text-align: right;\n",
       "    }\n",
       "</style>\n",
       "<table border=\"1\" class=\"dataframe\">\n",
       "  <thead>\n",
       "    <tr style=\"text-align: right;\">\n",
       "      <th>d_4_employment</th>\n",
       "      <th>0</th>\n",
       "      <th>1</th>\n",
       "      <th>2</th>\n",
       "      <th>3</th>\n",
       "      <th>4</th>\n",
       "      <th>5</th>\n",
       "      <th>6</th>\n",
       "      <th>7</th>\n",
       "    </tr>\n",
       "    <tr>\n",
       "      <th>d_3_education</th>\n",
       "      <th></th>\n",
       "      <th></th>\n",
       "      <th></th>\n",
       "      <th></th>\n",
       "      <th></th>\n",
       "      <th></th>\n",
       "      <th></th>\n",
       "      <th></th>\n",
       "    </tr>\n",
       "  </thead>\n",
       "  <tbody>\n",
       "    <tr>\n",
       "      <th>0</th>\n",
       "      <td>1</td>\n",
       "      <td>0</td>\n",
       "      <td>1</td>\n",
       "      <td>0</td>\n",
       "      <td>0</td>\n",
       "      <td>0</td>\n",
       "      <td>0</td>\n",
       "      <td>0</td>\n",
       "    </tr>\n",
       "    <tr>\n",
       "      <th>1</th>\n",
       "      <td>0</td>\n",
       "      <td>0</td>\n",
       "      <td>1</td>\n",
       "      <td>0</td>\n",
       "      <td>0</td>\n",
       "      <td>0</td>\n",
       "      <td>0</td>\n",
       "      <td>0</td>\n",
       "    </tr>\n",
       "    <tr>\n",
       "      <th>2</th>\n",
       "      <td>1</td>\n",
       "      <td>2</td>\n",
       "      <td>15</td>\n",
       "      <td>9</td>\n",
       "      <td>0</td>\n",
       "      <td>0</td>\n",
       "      <td>0</td>\n",
       "      <td>13</td>\n",
       "    </tr>\n",
       "    <tr>\n",
       "      <th>3</th>\n",
       "      <td>5</td>\n",
       "      <td>7</td>\n",
       "      <td>44</td>\n",
       "      <td>7</td>\n",
       "      <td>6</td>\n",
       "      <td>1</td>\n",
       "      <td>6</td>\n",
       "      <td>76</td>\n",
       "    </tr>\n",
       "    <tr>\n",
       "      <th>4</th>\n",
       "      <td>1</td>\n",
       "      <td>0</td>\n",
       "      <td>6</td>\n",
       "      <td>1</td>\n",
       "      <td>1</td>\n",
       "      <td>2</td>\n",
       "      <td>1</td>\n",
       "      <td>14</td>\n",
       "    </tr>\n",
       "    <tr>\n",
       "      <th>5</th>\n",
       "      <td>0</td>\n",
       "      <td>2</td>\n",
       "      <td>13</td>\n",
       "      <td>2</td>\n",
       "      <td>2</td>\n",
       "      <td>23</td>\n",
       "      <td>7</td>\n",
       "      <td>36</td>\n",
       "    </tr>\n",
       "    <tr>\n",
       "      <th>6</th>\n",
       "      <td>4</td>\n",
       "      <td>7</td>\n",
       "      <td>64</td>\n",
       "      <td>12</td>\n",
       "      <td>2</td>\n",
       "      <td>1</td>\n",
       "      <td>13</td>\n",
       "      <td>125</td>\n",
       "    </tr>\n",
       "    <tr>\n",
       "      <th>7</th>\n",
       "      <td>2</td>\n",
       "      <td>3</td>\n",
       "      <td>31</td>\n",
       "      <td>4</td>\n",
       "      <td>2</td>\n",
       "      <td>6</td>\n",
       "      <td>11</td>\n",
       "      <td>79</td>\n",
       "    </tr>\n",
       "  </tbody>\n",
       "</table>\n",
       "</div>"
      ]
     },
     "execution_count": 65,
     "metadata": {},
     "output_type": "execute_result"
    }
   ],
   "execution_count": 65
  },
  {
   "metadata": {},
   "cell_type": "code",
   "outputs": [],
   "execution_count": null,
   "source": "",
   "id": "ccfe5be51d4b31d"
  }
 ],
 "metadata": {
  "kernelspec": {
   "display_name": "Python 3",
   "language": "python",
   "name": "python3"
  },
  "language_info": {
   "codemirror_mode": {
    "name": "ipython",
    "version": 2
   },
   "file_extension": ".py",
   "mimetype": "text/x-python",
   "name": "python",
   "nbconvert_exporter": "python",
   "pygments_lexer": "ipython2",
   "version": "2.7.6"
  }
 },
 "nbformat": 4,
 "nbformat_minor": 5
}
